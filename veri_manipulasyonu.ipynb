{
 "cells": [
  {
   "cell_type": "markdown",
   "id": "542652d6-0a98-4cde-93c6-9b25e12229a4",
   "metadata": {
    "editable": true,
    "slideshow": {
     "slide_type": ""
    },
    "tags": []
   },
   "source": [
    "# Neden NumPy?"
   ]
  },
  {
   "cell_type": "markdown",
   "id": "22df3122-b305-4f09-8253-12bd286c352b",
   "metadata": {},
   "source": [
    "## Bir çok konuda bize işlem kolaylığı sağlar ve zamandan tasarruf etmemizi sağlıyor\n",
    "## Vektörel işlemleri daha kolay bir şekilde yapmamızı sağlar"
   ]
  },
  {
   "cell_type": "code",
   "execution_count": 11,
   "id": "a5a46946-93d0-4489-9a03-bd9570b83ea5",
   "metadata": {},
   "outputs": [
    {
     "data": {
      "text/plain": [
       "array([ 2,  6, 12, 20])"
      ]
     },
     "execution_count": 11,
     "metadata": {},
     "output_type": "execute_result"
    }
   ],
   "source": [
    "import numpy as np\n",
    "a = np.array([1,2,3,4])\n",
    "b = np.array([2,3,4,5])\n",
    "\n",
    "a * b "
   ]
  },
  {
   "cell_type": "markdown",
   "id": "9c436f23-7f8b-466c-a615-032a180e01a9",
   "metadata": {},
   "source": [
    "# NumPy Array`i Oluşturmak"
   ]
  },
  {
   "cell_type": "code",
   "execution_count": 14,
   "id": "c2bdcf96-b15b-427a-8250-f2c91eb86dfc",
   "metadata": {},
   "outputs": [],
   "source": [
    "import numpy as np # numpy kütüphanesini np kısaltması ile ekleme işlemi"
   ]
  },
  {
   "cell_type": "markdown",
   "id": "f9751600-db81-47e7-8172-caabc846e768",
   "metadata": {},
   "source": [
    "## 1.Yöntem:"
   ]
  },
  {
   "cell_type": "code",
   "execution_count": 17,
   "id": "98d47417-e4ef-4a07-bf58-7418cecdae3e",
   "metadata": {},
   "outputs": [],
   "source": [
    "a = np.array([1,2,3,4,5])"
   ]
  },
  {
   "cell_type": "code",
   "execution_count": 18,
   "id": "4a72c1c3-cbe1-45f8-9094-6e7ff932eee3",
   "metadata": {
    "scrolled": true
   },
   "outputs": [
    {
     "data": {
      "text/plain": [
       "numpy.ndarray"
      ]
     },
     "execution_count": 18,
     "metadata": {},
     "output_type": "execute_result"
    }
   ],
   "source": [
    "type(a)"
   ]
  },
  {
   "cell_type": "markdown",
   "id": "a8a0edfc-2cdc-4a65-a427-d3b0bb413de5",
   "metadata": {},
   "source": [
    "## İçerisinde tek bir veri tipi tutar"
   ]
  },
  {
   "cell_type": "code",
   "execution_count": 20,
   "id": "d89c3419-c733-46b5-9a8e-a3037a141f1d",
   "metadata": {},
   "outputs": [
    {
     "data": {
      "text/plain": [
       "array([13.2,  1. ,  4. , 32.3])"
      ]
     },
     "execution_count": 20,
     "metadata": {},
     "output_type": "execute_result"
    }
   ],
   "source": [
    "np.array([13.2, 1, 4, 32.3])"
   ]
  },
  {
   "cell_type": "markdown",
   "id": "d62b1b3f-aeed-4629-9e0e-1dd0f4720147",
   "metadata": {},
   "source": [
    "## Gördüğünüz Gibi int veri türünde girdiğimiz değerler float veri türüne dönüştürüldü"
   ]
  },
  {
   "cell_type": "code",
   "execution_count": 24,
   "id": "4fbac979-771c-4e50-8f54-cd3fc7003cfb",
   "metadata": {},
   "outputs": [
    {
     "data": {
      "text/plain": [
       "array([ 3,  4,  1, 32])"
      ]
     },
     "execution_count": 24,
     "metadata": {},
     "output_type": "execute_result"
    }
   ],
   "source": [
    "np.array([3.14, 4, 1, 32.3], dtype = \"int\")"
   ]
  },
  {
   "cell_type": "markdown",
   "id": "8c664940-b6b7-4cf2-8155-1cf1ba306279",
   "metadata": {},
   "source": [
    "## Gördüğünüz Üzere numpy arraylarinin veri türlerini değiştirme şansımız var şimdi işe hepsini int veri tipinde tutuyor"
   ]
  },
  {
   "cell_type": "markdown",
   "id": "8c1c4f09-05dc-4bcb-8a0a-025a31e038c4",
   "metadata": {},
   "source": [
    "# Sıfırdan Array Oluşturmak"
   ]
  },
  {
   "cell_type": "code",
   "execution_count": 25,
   "id": "c480be53-99ae-4313-8833-5b3c173954fb",
   "metadata": {},
   "outputs": [
    {
     "data": {
      "text/plain": [
       "array([0, 0, 0, 0, 0, 0, 0, 0, 0, 0])"
      ]
     },
     "execution_count": 25,
     "metadata": {},
     "output_type": "execute_result"
    }
   ],
   "source": [
    "np.zeros(10, dtype = int)"
   ]
  },
  {
   "cell_type": "code",
   "execution_count": 26,
   "id": "991ea947-884a-40d6-a94c-a57826b51060",
   "metadata": {},
   "outputs": [
    {
     "data": {
      "text/plain": [
       "array([[1, 1, 1, 1, 1],\n",
       "       [1, 1, 1, 1, 1],\n",
       "       [1, 1, 1, 1, 1]])"
      ]
     },
     "execution_count": 26,
     "metadata": {},
     "output_type": "execute_result"
    }
   ],
   "source": [
    "np.ones((3,5), dtype = int)"
   ]
  },
  {
   "cell_type": "markdown",
   "id": "36333876-7ba6-4966-b7c8-9225de31d069",
   "metadata": {},
   "source": [
    "# np.full((Kaça Kaçlık Bir Dizi İstiyoruz), dizinin elemanları ne olsun, tipni belirleme)"
   ]
  },
  {
   "cell_type": "code",
   "execution_count": 27,
   "id": "dffe62a7-dc75-4846-acf3-bf30dd2104ff",
   "metadata": {},
   "outputs": [
    {
     "data": {
      "text/plain": [
       "array([[3, 3, 3, 3, 3],\n",
       "       [3, 3, 3, 3, 3],\n",
       "       [3, 3, 3, 3, 3]])"
      ]
     },
     "execution_count": 27,
     "metadata": {},
     "output_type": "execute_result"
    }
   ],
   "source": [
    "np.full((3,5), 3, dtype = int)"
   ]
  },
  {
   "cell_type": "code",
   "execution_count": 28,
   "id": "5f689585-bacc-4051-97af-c873cfd2a133",
   "metadata": {},
   "outputs": [
    {
     "data": {
      "text/plain": [
       "array([ 0,  3,  6,  9, 12, 15, 18, 21, 24, 27, 30])"
      ]
     },
     "execution_count": 28,
     "metadata": {},
     "output_type": "execute_result"
    }
   ],
   "source": [
    "# ÇOOK ÖMELİ \n",
    "np.arange(0, 31, 3) # sıfırdan 31 e kadar 3 er 3 er artacak bir düz dizi"
   ]
  },
  {
   "cell_type": "code",
   "execution_count": 30,
   "id": "9a4d889b-dc66-4e36-851a-fe5884571210",
   "metadata": {},
   "outputs": [
    {
     "data": {
      "text/plain": [
       "array([0.        , 0.11111111, 0.22222222, 0.33333333, 0.44444444,\n",
       "       0.55555556, 0.66666667, 0.77777778, 0.88888889, 1.        ])"
      ]
     },
     "execution_count": 30,
     "metadata": {},
     "output_type": "execute_result"
    }
   ],
   "source": [
    "np.linspace(0, 1, 10) # Sıfır İle bir arasında 10 tane sayı yaz"
   ]
  },
  {
   "cell_type": "code",
   "execution_count": 32,
   "id": "12ea1f6e-2615-427f-9ace-f36ea4ae2269",
   "metadata": {},
   "outputs": [
    {
     "data": {
      "text/plain": [
       "array([[10.65397823,  8.8452057 ,  5.43537922,  5.37231968],\n",
       "       [12.38026644,  7.22417786, 10.8138435 ,  8.56464627],\n",
       "       [ 8.79395698,  9.86452947,  8.14371385, 10.14514015]])"
      ]
     },
     "execution_count": 32,
     "metadata": {},
     "output_type": "execute_result"
    }
   ],
   "source": [
    "# ÇOOK ÖMELİ\n",
    "np.random.normal(10, 4, (3,4))\n",
    "# rastgele oluşacak fakat ortalamasını ve standart sapmasını bizim belirlediğimiz bir matris oluşturduk"
   ]
  },
  {
   "cell_type": "code",
   "execution_count": 33,
   "id": "396f31b3-1bab-4215-af22-43fa200c0f41",
   "metadata": {},
   "outputs": [
    {
     "data": {
      "text/plain": [
       "array([[2, 3, 6],\n",
       "       [6, 2, 7],\n",
       "       [4, 0, 7]], dtype=int32)"
      ]
     },
     "execution_count": 33,
     "metadata": {},
     "output_type": "execute_result"
    }
   ],
   "source": [
    "# ÇOOK ÖMELİ\n",
    "np.random.randint(0, 10, (3,3))\n",
    "# üç çarpı üç ve 0 dan 10 kadar değer alabilcek yerleri rastgele olan bir matris üretme işlemi"
   ]
  },
  {
   "cell_type": "markdown",
   "id": "a3c187f7-79e5-4c07-8dab-4cb7e36d8922",
   "metadata": {},
   "source": [
    "# NumPy Array Özellikleri"
   ]
  },
  {
   "cell_type": "markdown",
   "id": "bb0fc94a-434e-4eee-9c12-7f861b388045",
   "metadata": {},
   "source": [
    "* ndim: boyut\n",
    "* shape: boyut bilgisi\n",
    "* size: toplam eleman sayisi\n",
    "* dtype: array veri tipi"
   ]
  },
  {
   "cell_type": "code",
   "execution_count": 34,
   "id": "d4d782fb-fe9c-4372-a2ae-70e4d8873c5d",
   "metadata": {},
   "outputs": [],
   "source": [
    "import numpy as np"
   ]
  },
  {
   "cell_type": "code",
   "execution_count": 35,
   "id": "2a52f805-f7c3-405f-97bd-87b8d0c335f5",
   "metadata": {},
   "outputs": [
    {
     "data": {
      "text/plain": [
       "array([2, 0, 8, 3, 4, 6, 1, 2, 5, 9], dtype=int32)"
      ]
     },
     "execution_count": 35,
     "metadata": {},
     "output_type": "execute_result"
    }
   ],
   "source": [
    "np.random.randint(10, size = 10)"
   ]
  },
  {
   "cell_type": "code",
   "execution_count": 36,
   "id": "d5289a01-5ba9-43a1-aa09-df9ab220a23f",
   "metadata": {},
   "outputs": [],
   "source": [
    "a = np.random.randint(10, size = 10)"
   ]
  },
  {
   "cell_type": "code",
   "execution_count": 37,
   "id": "b43280c3-c707-45be-bd51-9a1cc959fd29",
   "metadata": {},
   "outputs": [
    {
     "data": {
      "text/plain": [
       "1"
      ]
     },
     "execution_count": 37,
     "metadata": {},
     "output_type": "execute_result"
    }
   ],
   "source": [
    "a.ndim"
   ]
  },
  {
   "cell_type": "code",
   "execution_count": 38,
   "id": "00a9505f-3e76-4cf0-9695-1391e8ac493c",
   "metadata": {},
   "outputs": [
    {
     "data": {
      "text/plain": [
       "(10,)"
      ]
     },
     "execution_count": 38,
     "metadata": {},
     "output_type": "execute_result"
    }
   ],
   "source": [
    "a.shape"
   ]
  },
  {
   "cell_type": "code",
   "execution_count": 39,
   "id": "57876384-ba54-4c92-821d-6cf514e3cf36",
   "metadata": {},
   "outputs": [
    {
     "data": {
      "text/plain": [
       "10"
      ]
     },
     "execution_count": 39,
     "metadata": {},
     "output_type": "execute_result"
    }
   ],
   "source": [
    "a.size"
   ]
  },
  {
   "cell_type": "code",
   "execution_count": 40,
   "id": "f96300e4-1b9e-4aba-bb23-bfcfe9edc767",
   "metadata": {},
   "outputs": [
    {
     "data": {
      "text/plain": [
       "dtype('int32')"
      ]
     },
     "execution_count": 40,
     "metadata": {},
     "output_type": "execute_result"
    }
   ],
   "source": [
    "a.dtype"
   ]
  },
  {
   "cell_type": "code",
   "execution_count": 49,
   "id": "260f71f0-4d7e-48ac-b99e-6e51b9fa7875",
   "metadata": {},
   "outputs": [],
   "source": [
    "a = np.random.randint(0, 10, (3,3))"
   ]
  },
  {
   "cell_type": "code",
   "execution_count": 50,
   "id": "e829bc9d-c58e-4722-aedd-404486f6767f",
   "metadata": {},
   "outputs": [
    {
     "data": {
      "text/plain": [
       "2"
      ]
     },
     "execution_count": 50,
     "metadata": {},
     "output_type": "execute_result"
    }
   ],
   "source": [
    "a.ndim"
   ]
  },
  {
   "cell_type": "code",
   "execution_count": 51,
   "id": "3c03a3e4-a50b-44c6-8141-0d869b3e145e",
   "metadata": {},
   "outputs": [
    {
     "data": {
      "text/plain": [
       "(3, 3)"
      ]
     },
     "execution_count": 51,
     "metadata": {},
     "output_type": "execute_result"
    }
   ],
   "source": [
    "a.shape"
   ]
  },
  {
   "cell_type": "code",
   "execution_count": 52,
   "id": "a2e902e3-eb19-426a-96a7-c3ca270d2b55",
   "metadata": {},
   "outputs": [
    {
     "data": {
      "text/plain": [
       "9"
      ]
     },
     "execution_count": 52,
     "metadata": {},
     "output_type": "execute_result"
    }
   ],
   "source": [
    "a.size"
   ]
  },
  {
   "cell_type": "code",
   "execution_count": 53,
   "id": "0a8cba76-84a7-49e4-8460-2e1fc1684639",
   "metadata": {},
   "outputs": [
    {
     "data": {
      "text/plain": [
       "dtype('int32')"
      ]
     },
     "execution_count": 53,
     "metadata": {},
     "output_type": "execute_result"
    }
   ],
   "source": [
    "a.dtype"
   ]
  },
  {
   "cell_type": "markdown",
   "id": "97fdf4b8-f1c5-4f06-98df-c92f49792e53",
   "metadata": {},
   "source": [
    "# Yeniden Şekillendirme (Reshaping)\n"
   ]
  },
  {
   "cell_type": "markdown",
   "id": "d0a26a25-d9b7-4d29-b530-6b0e2cd664e5",
   "metadata": {},
   "source": [
    "## Bazen çıktılar sonucu olaşan 1 boyutlu matrisleri 2 boyutlu hale getirmek lazım \n",
    "## bazende iki ya da çok  boyutlu dizileri tek boyuta ndirgemek lazım \n",
    "## bundan dolayı yeniden şekillendirme işlemini kullanmamız gerekecek"
   ]
  },
  {
   "cell_type": "code",
   "execution_count": 54,
   "id": "6487a2af-002e-4904-a467-57573b4e4ecd",
   "metadata": {},
   "outputs": [],
   "source": [
    "import numpy as np"
   ]
  },
  {
   "cell_type": "code",
   "execution_count": 55,
   "id": "6534b8b6-35f3-4f4f-9eb9-88598e246da9",
   "metadata": {},
   "outputs": [
    {
     "data": {
      "text/plain": [
       "array([1, 2, 3, 4, 5, 6, 7, 8, 9])"
      ]
     },
     "execution_count": 55,
     "metadata": {},
     "output_type": "execute_result"
    }
   ],
   "source": [
    "np.arange(1, 10)"
   ]
  },
  {
   "cell_type": "code",
   "execution_count": 56,
   "id": "5c9d1f9f-8bdd-4f93-81f9-6d76c8a7d3cd",
   "metadata": {},
   "outputs": [
    {
     "data": {
      "text/plain": [
       "array([[1, 2, 3],\n",
       "       [4, 5, 6],\n",
       "       [7, 8, 9]])"
      ]
     },
     "execution_count": 56,
     "metadata": {},
     "output_type": "execute_result"
    }
   ],
   "source": [
    "np.arange(1,10).reshape((3,3)) # tek boyutlu diziyi 2 boyutlu matrise dönüştürdük"
   ]
  },
  {
   "cell_type": "code",
   "execution_count": 62,
   "id": "55ee6685-a88c-4f4e-aadb-d052e0b5a456",
   "metadata": {},
   "outputs": [],
   "source": [
    "a = np.arange(1,10)"
   ]
  },
  {
   "cell_type": "code",
   "execution_count": 64,
   "id": "2ced7094-665b-443f-b6fb-3935c029db94",
   "metadata": {},
   "outputs": [
    {
     "data": {
      "text/plain": [
       "array([1, 2, 3, 4, 5, 6, 7, 8, 9])"
      ]
     },
     "execution_count": 64,
     "metadata": {},
     "output_type": "execute_result"
    }
   ],
   "source": [
    "a"
   ]
  },
  {
   "cell_type": "code",
   "execution_count": 63,
   "id": "0ff1039f-41fb-4995-a8dc-4b2abd16a5fe",
   "metadata": {},
   "outputs": [
    {
     "data": {
      "text/plain": [
       "1"
      ]
     },
     "execution_count": 63,
     "metadata": {},
     "output_type": "execute_result"
    }
   ],
   "source": [
    "a.ndim"
   ]
  },
  {
   "cell_type": "code",
   "execution_count": 66,
   "id": "1b874c22-91ae-486d-974d-5ffc289fc1b4",
   "metadata": {},
   "outputs": [],
   "source": [
    "b = a.reshape((1,9))"
   ]
  },
  {
   "cell_type": "code",
   "execution_count": 67,
   "id": "46af2a1b-b70a-48f5-bca8-09079e063d9d",
   "metadata": {},
   "outputs": [
    {
     "data": {
      "text/plain": [
       "array([[1, 2, 3, 4, 5, 6, 7, 8, 9]])"
      ]
     },
     "execution_count": 67,
     "metadata": {},
     "output_type": "execute_result"
    }
   ],
   "source": [
    "b"
   ]
  },
  {
   "cell_type": "code",
   "execution_count": 68,
   "id": "e4cd4f63-f75b-484d-b312-550259f38fac",
   "metadata": {},
   "outputs": [
    {
     "data": {
      "text/plain": [
       "2"
      ]
     },
     "execution_count": 68,
     "metadata": {},
     "output_type": "execute_result"
    }
   ],
   "source": [
    "b.ndim"
   ]
  },
  {
   "cell_type": "markdown",
   "id": "c8e85b6e-db38-4810-98a3-7156f9f1c048",
   "metadata": {},
   "source": [
    "# Array Birlestirme (Concatenation)"
   ]
  },
  {
   "cell_type": "code",
   "execution_count": 69,
   "id": "a5401654-7b98-49d2-82d6-6a7991936c10",
   "metadata": {},
   "outputs": [],
   "source": [
    "import numpy as np"
   ]
  },
  {
   "cell_type": "code",
   "execution_count": 71,
   "id": "7ef377df-8951-4799-8e78-bdd9aa26bd41",
   "metadata": {},
   "outputs": [],
   "source": [
    "x = np.array([1,2,3])\n",
    "y = np.array([4,5,6])"
   ]
  },
  {
   "cell_type": "code",
   "execution_count": 72,
   "id": "e91c8e4b-e73c-4b76-8f3f-87994b585c7f",
   "metadata": {},
   "outputs": [],
   "source": [
    "z = np.concatenate([x,y])"
   ]
  },
  {
   "cell_type": "code",
   "execution_count": 74,
   "id": "176e4058-1232-49e7-9372-28a0fbcc1b83",
   "metadata": {},
   "outputs": [
    {
     "data": {
      "text/plain": [
       "array([1, 2, 3, 4, 5, 6])"
      ]
     },
     "execution_count": 74,
     "metadata": {},
     "output_type": "execute_result"
    }
   ],
   "source": [
    "z # x ve y dizilerini concatenate fonksiyonu yardımıyla birleştirdik"
   ]
  },
  {
   "cell_type": "code",
   "execution_count": 75,
   "id": "87f470b0-8ae8-4a6b-8bf3-bfa64cd52964",
   "metadata": {},
   "outputs": [],
   "source": [
    "t = np.array([7,8,9])"
   ]
  },
  {
   "cell_type": "code",
   "execution_count": 77,
   "id": "2c1445c1-2e78-447c-be99-a0419d05f846",
   "metadata": {},
   "outputs": [
    {
     "data": {
      "text/plain": [
       "array([1, 2, 3, 4, 5, 6, 7, 8, 9])"
      ]
     },
     "execution_count": 77,
     "metadata": {},
     "output_type": "execute_result"
    }
   ],
   "source": [
    "np.concatenate([z,t])"
   ]
  },
  {
   "cell_type": "markdown",
   "id": "b54bfefb-ca73-4b5b-84fb-8b76d6c9694c",
   "metadata": {},
   "source": [
    "## İki Boyutlu Matrisler İçin Birleştirme İşlemi"
   ]
  },
  {
   "cell_type": "code",
   "execution_count": 88,
   "id": "5a821e6e-6405-4073-8a76-4f417b48db67",
   "metadata": {},
   "outputs": [],
   "source": [
    "a = np.array([[1,2,3],\n",
    "              [4,5,6]])\n",
    "b = np.array([[7,8,9],\n",
    "              [10,11,12]])\n",
    "c = np.concatenate([a,b])"
   ]
  },
  {
   "cell_type": "code",
   "execution_count": 89,
   "id": "80822617-daa1-419f-9df6-0670bf4ff222",
   "metadata": {},
   "outputs": [
    {
     "data": {
      "text/plain": [
       "array([[ 1,  2,  3],\n",
       "       [ 4,  5,  6],\n",
       "       [ 7,  8,  9],\n",
       "       [10, 11, 12]])"
      ]
     },
     "execution_count": 89,
     "metadata": {},
     "output_type": "execute_result"
    }
   ],
   "source": [
    "c"
   ]
  },
  {
   "cell_type": "code",
   "execution_count": 95,
   "id": "fdb88cf6-474f-4da4-ab9a-ead274b2697b",
   "metadata": {},
   "outputs": [],
   "source": [
    "## (axis = 0 Satır Bazında Birleştirme)Satır Bazında Belirtilmiş Bir Şekilde Çıktı Aldık\n",
    "## (axis = 1 Sütun Bazında Birleştirme)Sütun Bazında Belirtilmiş Bir Şekilde Nasıl Çıktı Alcağız"
   ]
  },
  {
   "cell_type": "code",
   "execution_count": 96,
   "id": "abad76d5-d4d2-4270-8b9c-d14700a4dea4",
   "metadata": {},
   "outputs": [
    {
     "data": {
      "text/plain": [
       "array([[ 1,  2,  3],\n",
       "       [ 4,  5,  6],\n",
       "       [ 7,  8,  9],\n",
       "       [10, 11, 12]])"
      ]
     },
     "execution_count": 96,
     "metadata": {},
     "output_type": "execute_result"
    }
   ],
   "source": [
    "c = np.concatenate([a,b], axis = 0 )\n",
    "c"
   ]
  },
  {
   "cell_type": "code",
   "execution_count": 97,
   "id": "798b2d22-1e9a-49a5-a3dc-98482625446c",
   "metadata": {},
   "outputs": [
    {
     "data": {
      "text/plain": [
       "array([[ 1,  2,  3],\n",
       "       [ 4,  5,  6],\n",
       "       [ 7,  8,  9],\n",
       "       [10, 11, 12]])"
      ]
     },
     "execution_count": 97,
     "metadata": {},
     "output_type": "execute_result"
    }
   ],
   "source": [
    "c = np.concatenate([a,b], axis = 0)\n",
    "c"
   ]
  },
  {
   "cell_type": "markdown",
   "id": "a07b94d9-af71-4506-9e82-9dd97decf7b1",
   "metadata": {},
   "source": [
    "# Arraylerde Ayırma İşlemi (Spliting)"
   ]
  },
  {
   "cell_type": "code",
   "execution_count": 98,
   "id": "39c46188-37d8-4ee7-acbb-7e194db01104",
   "metadata": {},
   "outputs": [],
   "source": [
    "import numpy as np"
   ]
  },
  {
   "cell_type": "code",
   "execution_count": 105,
   "id": "98579aee-a1b2-41a2-a1b3-551f4ec3bc79",
   "metadata": {},
   "outputs": [],
   "source": [
    "x = np.array([1,2,3,99,99,3,2,1])"
   ]
  },
  {
   "cell_type": "code",
   "execution_count": 104,
   "id": "1834f665-cc7f-473a-9a5c-4ab67ec00c19",
   "metadata": {},
   "outputs": [
    {
     "data": {
      "text/plain": [
       "[array([1, 2, 3]), array([99, 99]), array([3, 2, 1])]"
      ]
     },
     "execution_count": 104,
     "metadata": {},
     "output_type": "execute_result"
    }
   ],
   "source": [
    "np.split(a , [3,5])"
   ]
  },
  {
   "cell_type": "code",
   "execution_count": 106,
   "id": "d3dd7876-1861-4df8-b23f-fda1200b7bbe",
   "metadata": {},
   "outputs": [],
   "source": [
    "a,b,c = np.split(a , [3,5])"
   ]
  },
  {
   "cell_type": "code",
   "execution_count": 107,
   "id": "da258cf1-ccf4-4302-a482-6601102fe4f3",
   "metadata": {},
   "outputs": [
    {
     "data": {
      "text/plain": [
       "array([1, 2, 3])"
      ]
     },
     "execution_count": 107,
     "metadata": {},
     "output_type": "execute_result"
    }
   ],
   "source": [
    "a"
   ]
  },
  {
   "cell_type": "code",
   "execution_count": 108,
   "id": "275fb635-a4b1-4363-9280-2953d665a1ba",
   "metadata": {},
   "outputs": [
    {
     "data": {
      "text/plain": [
       "array([99, 99])"
      ]
     },
     "execution_count": 108,
     "metadata": {},
     "output_type": "execute_result"
    }
   ],
   "source": [
    "b"
   ]
  },
  {
   "cell_type": "code",
   "execution_count": 109,
   "id": "6c0d1a77-4541-4d9b-8c58-61675f0e749b",
   "metadata": {},
   "outputs": [
    {
     "data": {
      "text/plain": [
       "array([3, 2, 1])"
      ]
     },
     "execution_count": 109,
     "metadata": {},
     "output_type": "execute_result"
    }
   ],
   "source": [
    "c"
   ]
  },
  {
   "cell_type": "markdown",
   "id": "ed2dc20e-ad29-43c7-a4e9-560e69007a3e",
   "metadata": {},
   "source": [
    "## İki Boyutlu Matrislerde Ayırma İşlemi"
   ]
  },
  {
   "cell_type": "code",
   "execution_count": 114,
   "id": "77750f7c-3caa-4e3b-ba6d-8554bbb6ec45",
   "metadata": {},
   "outputs": [
    {
     "data": {
      "text/plain": [
       "array([[ 0,  1,  2,  3],\n",
       "       [ 4,  5,  6,  7],\n",
       "       [ 8,  9, 10, 11],\n",
       "       [12, 13, 14, 15]])"
      ]
     },
     "execution_count": 114,
     "metadata": {},
     "output_type": "execute_result"
    }
   ],
   "source": [
    "y = np.arange(16).reshape(4,4)\n",
    "y"
   ]
  },
  {
   "cell_type": "code",
   "execution_count": 122,
   "id": "35c1e8b8-c762-4698-85e9-1c94885aac20",
   "metadata": {},
   "outputs": [
    {
     "data": {
      "text/plain": [
       "[array([[0, 1, 2, 3],\n",
       "        [4, 5, 6, 7]]),\n",
       " array([[ 8,  9, 10, 11],\n",
       "        [12, 13, 14, 15]])]"
      ]
     },
     "execution_count": 122,
     "metadata": {},
     "output_type": "execute_result"
    }
   ],
   "source": [
    "np.vsplit(y, [2]) # Arrayi tam ortadan satırlara göre bölme işlemine tabii tuttuk"
   ]
  },
  {
   "cell_type": "code",
   "execution_count": 117,
   "id": "cf68286d-a491-4189-88d2-3db1c99fd3cf",
   "metadata": {},
   "outputs": [],
   "source": [
    "ust,alt = np.split(y,[2])"
   ]
  },
  {
   "cell_type": "code",
   "execution_count": 118,
   "id": "3454f22f-ca88-4911-8bf5-370132e24eb9",
   "metadata": {},
   "outputs": [
    {
     "data": {
      "text/plain": [
       "array([[0, 1, 2, 3],\n",
       "       [4, 5, 6, 7]])"
      ]
     },
     "execution_count": 118,
     "metadata": {},
     "output_type": "execute_result"
    }
   ],
   "source": [
    "ust"
   ]
  },
  {
   "cell_type": "code",
   "execution_count": 119,
   "id": "14fc9f4a-2ff1-43ef-bba4-37503e8efbaf",
   "metadata": {},
   "outputs": [
    {
     "data": {
      "text/plain": [
       "array([[ 8,  9, 10, 11],\n",
       "       [12, 13, 14, 15]])"
      ]
     },
     "execution_count": 119,
     "metadata": {},
     "output_type": "execute_result"
    }
   ],
   "source": [
    "alt"
   ]
  },
  {
   "cell_type": "code",
   "execution_count": 121,
   "id": "b42a11c2-b505-44ba-8950-6d5b7166d2f1",
   "metadata": {},
   "outputs": [
    {
     "data": {
      "text/plain": [
       "[array([[ 0,  1],\n",
       "        [ 4,  5],\n",
       "        [ 8,  9],\n",
       "        [12, 13]]),\n",
       " array([[ 2,  3],\n",
       "        [ 6,  7],\n",
       "        [10, 11],\n",
       "        [14, 15]])]"
      ]
     },
     "execution_count": 121,
     "metadata": {},
     "output_type": "execute_result"
    }
   ],
   "source": [
    "np.hsplit(y,[2]) # Sütünlara göre ayırma işlemini yaptık sütunlara göre tam ortadan böldük"
   ]
  },
  {
   "cell_type": "code",
   "execution_count": 124,
   "id": "2c96e4b7-82d1-4d2b-9981-6117511e3a8d",
   "metadata": {},
   "outputs": [],
   "source": [
    "sol,sag = np.hsplit(y, [2])"
   ]
  },
  {
   "cell_type": "code",
   "execution_count": 125,
   "id": "42f21f2a-3350-4a92-a601-597cef1b04b0",
   "metadata": {},
   "outputs": [
    {
     "data": {
      "text/plain": [
       "array([[ 0,  1],\n",
       "       [ 4,  5],\n",
       "       [ 8,  9],\n",
       "       [12, 13]])"
      ]
     },
     "execution_count": 125,
     "metadata": {},
     "output_type": "execute_result"
    }
   ],
   "source": [
    "sol"
   ]
  },
  {
   "cell_type": "code",
   "execution_count": 127,
   "id": "93e4d638-00ca-42be-85d4-1d05b04876a4",
   "metadata": {},
   "outputs": [
    {
     "data": {
      "text/plain": [
       "array([[ 2,  3],\n",
       "       [ 6,  7],\n",
       "       [10, 11],\n",
       "       [14, 15]])"
      ]
     },
     "execution_count": 127,
     "metadata": {},
     "output_type": "execute_result"
    }
   ],
   "source": [
    "sag"
   ]
  },
  {
   "cell_type": "markdown",
   "id": "cb8fb9e0-23d5-4a30-94ea-a2a859b0e8c0",
   "metadata": {},
   "source": [
    "# Array Sıralama İşlemi (Sorting)"
   ]
  },
  {
   "cell_type": "code",
   "execution_count": 128,
   "id": "015f4480-e0b2-40fe-9765-4249129b60da",
   "metadata": {},
   "outputs": [],
   "source": [
    "import numpy as np"
   ]
  },
  {
   "cell_type": "code",
   "execution_count": 151,
   "id": "821a2bf0-35e6-4a99-be09-c7b93ce9516b",
   "metadata": {},
   "outputs": [
    {
     "data": {
      "text/plain": [
       "array([3, 7, 2, 6, 9, 4, 8])"
      ]
     },
     "execution_count": 151,
     "metadata": {},
     "output_type": "execute_result"
    }
   ],
   "source": [
    "v = np.array([3,7,2,6,9,4,8])\n",
    "v"
   ]
  },
  {
   "cell_type": "code",
   "execution_count": 142,
   "id": "3efbb48f-7427-497c-a747-ac2ce2ae4290",
   "metadata": {},
   "outputs": [
    {
     "data": {
      "text/plain": [
       "array([2, 3, 4, 6, 7, 8, 9])"
      ]
     },
     "execution_count": 142,
     "metadata": {},
     "output_type": "execute_result"
    }
   ],
   "source": [
    "np.sort(v) # Küçükten Büyüğe Doğru Sıralama İşlemleri "
   ]
  },
  {
   "cell_type": "markdown",
   "id": "af8343eb-9fdd-4fbf-89e4-4dcc3bcb4b90",
   "metadata": {},
   "source": [
    "## İki Boytlu Matrisler İçin Sıralama İşlemleri"
   ]
  },
  {
   "cell_type": "code",
   "execution_count": 160,
   "id": "3a354673-387d-47b5-8c3c-a498261db51f",
   "metadata": {},
   "outputs": [
    {
     "data": {
      "text/plain": [
       "array([[ 9, 12, 13, 11],\n",
       "       [ 4,  0,  3, 15],\n",
       "       [15,  5, 13,  4],\n",
       "       [ 3, 11,  3, 10]], dtype=int32)"
      ]
     },
     "execution_count": 160,
     "metadata": {},
     "output_type": "execute_result"
    }
   ],
   "source": [
    "v = np.random.randint(0, 16, (4,4))\n",
    "v"
   ]
  },
  {
   "cell_type": "code",
   "execution_count": 165,
   "id": "a50f2f0a-9b7f-4b93-97d2-e8c04d7e9283",
   "metadata": {},
   "outputs": [
    {
     "data": {
      "text/plain": [
       "array([[ 9, 11, 12, 13],\n",
       "       [ 0,  3,  4, 15],\n",
       "       [ 4,  5, 13, 15],\n",
       "       [ 3,  3, 10, 11]], dtype=int32)"
      ]
     },
     "execution_count": 165,
     "metadata": {},
     "output_type": "execute_result"
    }
   ],
   "source": [
    "np.sort(v, axis = 1) # Satır satır küçükren büyüğe sıralama işlemi"
   ]
  },
  {
   "cell_type": "code",
   "execution_count": 166,
   "id": "b20abafd-0247-4a84-8fd7-8626510022c4",
   "metadata": {},
   "outputs": [
    {
     "data": {
      "text/plain": [
       "array([[ 3,  0,  3,  4],\n",
       "       [ 4,  5,  3, 10],\n",
       "       [ 9, 11, 13, 11],\n",
       "       [15, 12, 13, 15]], dtype=int32)"
      ]
     },
     "execution_count": 166,
     "metadata": {},
     "output_type": "execute_result"
    }
   ],
   "source": [
    "np.sort(v, axis = 0) # Sütun sütun küçükren büyüğe sıralama işlemi "
   ]
  },
  {
   "cell_type": "markdown",
   "id": "8b842502-56e4-4d49-8ec3-847a818319df",
   "metadata": {},
   "source": [
    " # İndeks İle Eleman Erişme İşlemi "
   ]
  },
  {
   "cell_type": "code",
   "execution_count": null,
   "id": "960c72e1-d6b8-4c04-954d-6f5233184d82",
   "metadata": {},
   "outputs": [],
   "source": [
    "import numpy as np"
   ]
  },
  {
   "cell_type": "code",
   "execution_count": 174,
   "id": "92edbff0-66b7-4207-b8fe-d333bf6cded8",
   "metadata": {},
   "outputs": [
    {
     "data": {
      "text/plain": [
       "array([2, 3, 6, 6, 7, 9, 2, 3, 8, 2], dtype=int32)"
      ]
     },
     "execution_count": 174,
     "metadata": {},
     "output_type": "execute_result"
    }
   ],
   "source": [
    "a = np.random.randint(10 , size = 10)\n",
    "a"
   ]
  },
  {
   "cell_type": "code",
   "execution_count": 177,
   "id": "efdc3c5f-8b96-43e7-8507-b5aeb46c64eb",
   "metadata": {},
   "outputs": [
    {
     "data": {
      "text/plain": [
       "np.int32(2)"
      ]
     },
     "execution_count": 177,
     "metadata": {},
     "output_type": "execute_result"
    }
   ],
   "source": [
    "a[0]"
   ]
  },
  {
   "cell_type": "code",
   "execution_count": 179,
   "id": "60cbd67c-9327-431b-b18f-0140b315a5cc",
   "metadata": {},
   "outputs": [
    {
     "data": {
      "text/plain": [
       "np.int32(2)"
      ]
     },
     "execution_count": 179,
     "metadata": {},
     "output_type": "execute_result"
    }
   ],
   "source": [
    "a[-1]"
   ]
  },
  {
   "cell_type": "code",
   "execution_count": 181,
   "id": "f4c28572-04ec-45a9-98e1-8ee1ff131fb4",
   "metadata": {},
   "outputs": [
    {
     "data": {
      "text/plain": [
       "np.int32(1)"
      ]
     },
     "execution_count": 181,
     "metadata": {},
     "output_type": "execute_result"
    }
   ],
   "source": [
    "a[0] = 1\n",
    "a[0]"
   ]
  },
  {
   "cell_type": "code",
   "execution_count": 186,
   "id": "1b3139b6-f26d-430e-ac23-5f3144a4a425",
   "metadata": {},
   "outputs": [
    {
     "data": {
      "text/plain": [
       "array([[9, 6, 1, 5, 2],\n",
       "       [2, 2, 2, 4, 6],\n",
       "       [9, 3, 9, 8, 8]], dtype=int32)"
      ]
     },
     "execution_count": 186,
     "metadata": {},
     "output_type": "execute_result"
    }
   ],
   "source": [
    "m = np.random.randint(1,10, size = (3,5))\n",
    "m"
   ]
  },
  {
   "cell_type": "code",
   "execution_count": 191,
   "id": "27809444-09c7-441f-8d46-2753cf9f3775",
   "metadata": {},
   "outputs": [
    {
     "data": {
      "text/plain": [
       "np.int32(6)"
      ]
     },
     "execution_count": 191,
     "metadata": {},
     "output_type": "execute_result"
    }
   ],
   "source": [
    "m[0][1]"
   ]
  },
  {
   "cell_type": "code",
   "execution_count": 190,
   "id": "d6abc06c-0644-401f-a8b9-8a216d843c31",
   "metadata": {},
   "outputs": [
    {
     "data": {
      "text/plain": [
       "np.int32(9)"
      ]
     },
     "execution_count": 190,
     "metadata": {},
     "output_type": "execute_result"
    }
   ],
   "source": [
    "m[-1][-3]"
   ]
  },
  {
   "cell_type": "code",
   "execution_count": 194,
   "id": "24b4d6c7-6249-4d52-bff2-3150c805186b",
   "metadata": {},
   "outputs": [
    {
     "data": {
      "text/plain": [
       "np.int32(4)"
      ]
     },
     "execution_count": 194,
     "metadata": {},
     "output_type": "execute_result"
    }
   ],
   "source": [
    "# 2.Satır 4. elemana erişip değerni değiştirelim\n",
    "m[1][3]"
   ]
  },
  {
   "cell_type": "code",
   "execution_count": 196,
   "id": "09625093-556e-4ac0-b50c-15ceee63e998",
   "metadata": {},
   "outputs": [
    {
     "data": {
      "text/plain": [
       "np.int32(5)"
      ]
     },
     "execution_count": 196,
     "metadata": {},
     "output_type": "execute_result"
    }
   ],
   "source": [
    "m[1][3] = 5\n",
    "m[1][3]"
   ]
  },
  {
   "cell_type": "markdown",
   "id": "fa13e362-afbe-4b52-8b54-1da780bc78c5",
   "metadata": {},
   "source": [
    "# Array Alt Küme İşlemleri (Slicing)"
   ]
  },
  {
   "cell_type": "code",
   "execution_count": 197,
   "id": "8438ad4c-fcfc-4e12-877a-e02d6e226697",
   "metadata": {},
   "outputs": [],
   "source": [
    "import numpy as np"
   ]
  },
  {
   "cell_type": "code",
   "execution_count": 198,
   "id": "4cc73fbc-0ac1-48e8-869a-86645a66f4e3",
   "metadata": {},
   "outputs": [
    {
     "data": {
      "text/plain": [
       "array([20, 21, 22, 23, 24, 25, 26, 27, 28, 29])"
      ]
     },
     "execution_count": 198,
     "metadata": {},
     "output_type": "execute_result"
    }
   ],
   "source": [
    "a = np.arange(20,30)\n",
    "a"
   ]
  },
  {
   "cell_type": "code",
   "execution_count": 199,
   "id": "8afde4c7-eb64-4b1c-88d7-ee14db6c2c89",
   "metadata": {},
   "outputs": [
    {
     "data": {
      "text/plain": [
       "array([20, 21, 22])"
      ]
     },
     "execution_count": 199,
     "metadata": {},
     "output_type": "execute_result"
    }
   ],
   "source": [
    "a[0:3] # sıfırdan indeksten üçüncü indekse kadar git ama üçüncü indeks dahil değil"
   ]
  },
  {
   "cell_type": "code",
   "execution_count": 200,
   "id": "43e38cf7-d40a-488f-a9a8-7611592ddbcc",
   "metadata": {},
   "outputs": [
    {
     "data": {
      "text/plain": [
       "array([20, 21, 22])"
      ]
     },
     "execution_count": 200,
     "metadata": {},
     "output_type": "execute_result"
    }
   ],
   "source": [
    "a[:3]"
   ]
  },
  {
   "cell_type": "code",
   "execution_count": 201,
   "id": "ea17d57b-3f6b-4f6e-bc9c-ef43ba345e49",
   "metadata": {},
   "outputs": [
    {
     "data": {
      "text/plain": [
       "array([23, 24, 25, 26, 27, 28, 29])"
      ]
     },
     "execution_count": 201,
     "metadata": {},
     "output_type": "execute_result"
    }
   ],
   "source": [
    "a[3:]"
   ]
  },
  {
   "cell_type": "code",
   "execution_count": 202,
   "id": "dace531a-8cea-4b74-b666-1e406b368ea8",
   "metadata": {},
   "outputs": [
    {
     "data": {
      "text/plain": [
       "array([21, 24, 27])"
      ]
     },
     "execution_count": 202,
     "metadata": {},
     "output_type": "execute_result"
    }
   ],
   "source": [
    "a[1::3] # 1. indeksten den başla 3 er 3 er "
   ]
  },
  {
   "cell_type": "code",
   "execution_count": 203,
   "id": "4cfc761d-e41c-48ee-a676-a3b0f1121531",
   "metadata": {},
   "outputs": [
    {
     "data": {
      "text/plain": [
       "array([22, 27])"
      ]
     },
     "execution_count": 203,
     "metadata": {},
     "output_type": "execute_result"
    }
   ],
   "source": [
    "a[2::5] # 2.indeksten başla 5 er 5er"
   ]
  },
  {
   "cell_type": "code",
   "execution_count": 204,
   "id": "6217a005-b249-42df-9721-a24e12452162",
   "metadata": {},
   "outputs": [
    {
     "data": {
      "text/plain": [
       "array([20, 21, 22, 23, 24, 25, 26, 27, 28, 29])"
      ]
     },
     "execution_count": 204,
     "metadata": {},
     "output_type": "execute_result"
    }
   ],
   "source": [
    "a[0::1] # 0. indeksten başla 1 er 1 er"
   ]
  },
  {
   "cell_type": "markdown",
   "id": "a3dc47d9-37fa-4fb3-bd68-dc96bff42e1b",
   "metadata": {},
   "source": [
    "## İki Boyutlu Matrislerde Slicing İşlemleri "
   ]
  },
  {
   "cell_type": "code",
   "execution_count": 208,
   "id": "abb8c2c0-453a-4f7f-a207-23ea0bfdb987",
   "metadata": {},
   "outputs": [
    {
     "data": {
      "text/plain": [
       "array([[9, 8, 7, 4, 2],\n",
       "       [1, 5, 0, 4, 8],\n",
       "       [4, 7, 6, 3, 6],\n",
       "       [0, 7, 9, 7, 5],\n",
       "       [9, 1, 5, 5, 1]], dtype=int32)"
      ]
     },
     "execution_count": 208,
     "metadata": {},
     "output_type": "execute_result"
    }
   ],
   "source": [
    "m = np.random.randint(10, size = (5,5))\n",
    "m"
   ]
  },
  {
   "cell_type": "code",
   "execution_count": 216,
   "id": "55f781c6-a31f-471f-96af-4bab519d3321",
   "metadata": {},
   "outputs": [
    {
     "data": {
      "text/plain": [
       "array([9, 1, 4, 0, 9], dtype=int32)"
      ]
     },
     "execution_count": 216,
     "metadata": {},
     "output_type": "execute_result"
    }
   ],
   "source": [
    "m[:,0] # virgülden önceki işlem satır işlemlerini ifade eder sonrası ise sütun işlemlerini ifade eder"
   ]
  },
  {
   "cell_type": "code",
   "execution_count": 218,
   "id": "4ce2b04b-096f-4c76-b52a-a227a0bc3b80",
   "metadata": {},
   "outputs": [
    {
     "data": {
      "text/plain": [
       "array([1, 4, 0, 9], dtype=int32)"
      ]
     },
     "execution_count": 218,
     "metadata": {},
     "output_type": "execute_result"
    }
   ],
   "source": [
    "m[1:,0] # 2.satırdan son satıra kadar  0.sütundaki elemanları göster "
   ]
  },
  {
   "cell_type": "code",
   "execution_count": 220,
   "id": "8a6c5f72-137d-4d1d-970f-6d06967020b6",
   "metadata": {},
   "outputs": [
    {
     "data": {
      "text/plain": [
       "array([7, 0, 6], dtype=int32)"
      ]
     },
     "execution_count": 220,
     "metadata": {},
     "output_type": "execute_result"
    }
   ],
   "source": [
    "m[0:3, 2] # 0.indeksten 3.indekse kadar ama 3.indeks hariç, 2 indeksteki sütundaki elemları göster"
   ]
  },
  {
   "cell_type": "code",
   "execution_count": 222,
   "id": "48e9e24f-784f-466c-b7b7-cee94ea505cd",
   "metadata": {},
   "outputs": [
    {
     "data": {
      "text/plain": [
       "array([1, 5, 0], dtype=int32)"
      ]
     },
     "execution_count": 222,
     "metadata": {},
     "output_type": "execute_result"
    }
   ],
   "source": [
    "m[1,0:3] #1.indeksteki satırın 0.indeksinden 3. indeksine kadar ama 3. indeks dahil değil"
   ]
  },
  {
   "cell_type": "code",
   "execution_count": 223,
   "id": "3af52c2a-2fc4-4ec1-8bca-375af3b0dfa0",
   "metadata": {},
   "outputs": [
    {
     "data": {
      "text/plain": [
       "array([[5, 0],\n",
       "       [7, 6]], dtype=int32)"
      ]
     },
     "execution_count": 223,
     "metadata": {},
     "output_type": "execute_result"
    }
   ],
   "source": [
    "m[1:3,1:3]"
   ]
  },
  {
   "cell_type": "code",
   "execution_count": 225,
   "id": "6a4480a7-5a4c-4d15-8e23-4d2983685c5d",
   "metadata": {},
   "outputs": [
    {
     "data": {
      "text/plain": [
       "array([[1, 5],\n",
       "       [4, 7]], dtype=int32)"
      ]
     },
     "execution_count": 225,
     "metadata": {},
     "output_type": "execute_result"
    }
   ],
   "source": [
    "m[1:3,0:2]"
   ]
  },
  {
   "cell_type": "markdown",
   "id": "02bcc060-e195-4623-bc41-e3f45e5c4b80",
   "metadata": {},
   "source": [
    "# Alt Küme Üzerinde İşlem Yapmak "
   ]
  },
  {
   "cell_type": "markdown",
   "id": "2a2b54d1-bc65-42ec-bea1-6bfbac6c4680",
   "metadata": {},
   "source": [
    "## Matrislerde alt küme işlemlerinde yapcağımız işlemler \n",
    "## asıl matriste de değişiklik oluyor bu işlem çok işimize \n",
    "## yarasda bazen bunu istemeyiz bunun için alt kümleri bağımsızlaştırma \n",
    "## işlemi"
   ]
  },
  {
   "cell_type": "code",
   "execution_count": 226,
   "id": "bae0396d-26f0-4dcd-8b1f-036d14201af1",
   "metadata": {},
   "outputs": [
    {
     "data": {
      "text/plain": [
       "array([[1, 6, 2, 0, 3],\n",
       "       [4, 4, 6, 9, 0],\n",
       "       [0, 5, 8, 5, 9],\n",
       "       [8, 7, 9, 8, 6],\n",
       "       [7, 7, 9, 1, 2]], dtype=int32)"
      ]
     },
     "execution_count": 226,
     "metadata": {},
     "output_type": "execute_result"
    }
   ],
   "source": [
    "import numpy as np\n",
    "a = np.random.randint(10,size = (5,5))\n",
    "a"
   ]
  },
  {
   "cell_type": "code",
   "execution_count": 228,
   "id": "34747521-86cd-4521-971f-8af3d2e8ae17",
   "metadata": {},
   "outputs": [
    {
     "data": {
      "text/plain": [
       "array([[1, 6],\n",
       "       [4, 4],\n",
       "       [0, 5]], dtype=int32)"
      ]
     },
     "execution_count": 228,
     "metadata": {},
     "output_type": "execute_result"
    }
   ],
   "source": [
    "alt_a = a[0:3,0:2]\n",
    "alt_a"
   ]
  },
  {
   "cell_type": "code",
   "execution_count": 230,
   "id": "003856a6-ca22-4c99-88aa-e327fa2258c6",
   "metadata": {},
   "outputs": [
    {
     "data": {
      "text/plain": [
       "array([[999,   6],\n",
       "       [  4, 888],\n",
       "       [  0,   5]], dtype=int32)"
      ]
     },
     "execution_count": 230,
     "metadata": {},
     "output_type": "execute_result"
    }
   ],
   "source": [
    "alt_a[0,0] = 999\n",
    "alt_a[1,1] = 888\n",
    "alt_a"
   ]
  },
  {
   "cell_type": "code",
   "execution_count": 231,
   "id": "ae17f70e-f487-4c9e-9506-5a512ee29064",
   "metadata": {},
   "outputs": [
    {
     "data": {
      "text/plain": [
       "array([[999,   6,   2,   0,   3],\n",
       "       [  4, 888,   6,   9,   0],\n",
       "       [  0,   5,   8,   5,   9],\n",
       "       [  8,   7,   9,   8,   6],\n",
       "       [  7,   7,   9,   1,   2]], dtype=int32)"
      ]
     },
     "execution_count": 231,
     "metadata": {},
     "output_type": "execute_result"
    }
   ],
   "source": [
    "a"
   ]
  },
  {
   "cell_type": "markdown",
   "id": "9fd8ede3-32e8-4e6c-83ad-35500a87a637",
   "metadata": {},
   "source": [
    "## Görüldüğü üzere asıl matristede değişiklik oldu\n",
    "## Pekii bunun çözümü nedir copy methodudur:\n"
   ]
  },
  {
   "cell_type": "code",
   "execution_count": 233,
   "id": "3985e6da-f8f3-4a29-a190-70d0e9875a94",
   "metadata": {},
   "outputs": [
    {
     "data": {
      "text/plain": [
       "array([[0, 9, 7, 5, 4],\n",
       "       [5, 9, 7, 6, 0],\n",
       "       [7, 8, 1, 9, 8],\n",
       "       [0, 4, 4, 9, 0],\n",
       "       [1, 2, 4, 6, 3]], dtype=int32)"
      ]
     },
     "execution_count": 233,
     "metadata": {},
     "output_type": "execute_result"
    }
   ],
   "source": [
    "m = np.random.randint(10 , size = (5,5,))\n",
    "m"
   ]
  },
  {
   "cell_type": "code",
   "execution_count": 235,
   "id": "c2ebaf69-5537-4554-8860-d4d4869a173c",
   "metadata": {},
   "outputs": [
    {
     "data": {
      "text/plain": [
       "array([[0, 9],\n",
       "       [5, 9],\n",
       "       [7, 8]], dtype=int32)"
      ]
     },
     "execution_count": 235,
     "metadata": {},
     "output_type": "execute_result"
    }
   ],
   "source": [
    "alt_b = m[0:3,0:2].copy() #Bu işlem sonucu ana matristen bağımsız hale gelmiş oldu\n",
    "alt_b"
   ]
  },
  {
   "cell_type": "code",
   "execution_count": 236,
   "id": "d4b21561-53a9-451a-956a-a92da82532fc",
   "metadata": {},
   "outputs": [
    {
     "data": {
      "text/plain": [
       "array([[999, 888],\n",
       "       [  5,   9],\n",
       "       [  7,   8]], dtype=int32)"
      ]
     },
     "execution_count": 236,
     "metadata": {},
     "output_type": "execute_result"
    }
   ],
   "source": [
    "alt_b[0,0] = 999\n",
    "alt_b[0,1] = 888\n",
    "alt_b"
   ]
  },
  {
   "cell_type": "code",
   "execution_count": 237,
   "id": "f9520050-2cd9-47ea-9042-ec084693e77c",
   "metadata": {},
   "outputs": [
    {
     "data": {
      "text/plain": [
       "array([[0, 9, 7, 5, 4],\n",
       "       [5, 9, 7, 6, 0],\n",
       "       [7, 8, 1, 9, 8],\n",
       "       [0, 4, 4, 9, 0],\n",
       "       [1, 2, 4, 6, 3]], dtype=int32)"
      ]
     },
     "execution_count": 237,
     "metadata": {},
     "output_type": "execute_result"
    }
   ],
   "source": [
    "m"
   ]
  },
  {
   "cell_type": "markdown",
   "id": "61253819-16d4-41f5-8b01-ac6f9faeae63",
   "metadata": {},
   "source": [
    "## Görüldüğü üzere Ana matriste Herhangi Bir Değişme olmadan Değişim yapmış olduk"
   ]
  },
  {
   "cell_type": "code",
   "execution_count": 238,
   "id": "64d86cae-1338-47ec-a998-b4ddd125a22e",
   "metadata": {},
   "outputs": [
    {
     "data": {
      "text/plain": [
       "array([[2997, 2664],\n",
       "       [  15,   27],\n",
       "       [  21,   24]], dtype=int32)"
      ]
     },
     "execution_count": 238,
     "metadata": {},
     "output_type": "execute_result"
    }
   ],
   "source": [
    "alt_b*3 # Tüm değerleri 3 ile çarptık"
   ]
  },
  {
   "cell_type": "markdown",
   "id": "0211d38d-c436-496f-98e5-b5b1bd9aaa85",
   "metadata": {},
   "source": [
    "# **Fancy Index** İle Elemanlara Erişmek (--**ÇOOOK ÖNEMLİ DİKKATLE İNCELE**--)"
   ]
  },
  {
   "cell_type": "code",
   "execution_count": 240,
   "id": "a9363908-c8b3-48c9-ab0c-1eae3287e444",
   "metadata": {},
   "outputs": [
    {
     "data": {
      "text/plain": [
       "array([ 0,  3,  6,  9, 12, 15, 18, 21, 24, 27])"
      ]
     },
     "execution_count": 240,
     "metadata": {},
     "output_type": "execute_result"
    }
   ],
   "source": [
    "import numpy as np\n",
    "v = np.arange(0, 30 , 3)\n",
    "v"
   ]
  },
  {
   "cell_type": "code",
   "execution_count": null,
   "id": "7ad66e80-a5b8-4821-a0dd-21cf858f832f",
   "metadata": {},
   "outputs": [],
   "source": [
    "# Bu dizideki 1 3 ve 5 elemanlara erişmek istiyorum"
   ]
  },
  {
   "cell_type": "code",
   "execution_count": 241,
   "id": "981aceda-3f4a-490c-a53e-f8d913710d62",
   "metadata": {},
   "outputs": [
    {
     "data": {
      "text/plain": [
       "np.int64(3)"
      ]
     },
     "execution_count": 241,
     "metadata": {},
     "output_type": "execute_result"
    }
   ],
   "source": [
    "v[1]"
   ]
  },
  {
   "cell_type": "code",
   "execution_count": 242,
   "id": "ece4ecd0-1958-42a5-86bf-b19d8a64aa0a",
   "metadata": {},
   "outputs": [
    {
     "data": {
      "text/plain": [
       "np.int64(9)"
      ]
     },
     "execution_count": 242,
     "metadata": {},
     "output_type": "execute_result"
    }
   ],
   "source": [
    "v[3]"
   ]
  },
  {
   "cell_type": "code",
   "execution_count": 243,
   "id": "5abe0b54-cc9e-4492-b49d-f7c93a6099a4",
   "metadata": {},
   "outputs": [
    {
     "data": {
      "text/plain": [
       "np.int64(15)"
      ]
     },
     "execution_count": 243,
     "metadata": {},
     "output_type": "execute_result"
    }
   ],
   "source": [
    "v[5]"
   ]
  },
  {
   "cell_type": "code",
   "execution_count": 244,
   "id": "eac5e690-2cd9-43a3-b928-b5fcb5b020f0",
   "metadata": {},
   "outputs": [
    {
     "data": {
      "text/plain": [
       "[np.int64(3), np.int64(9), np.int64(15)]"
      ]
     },
     "execution_count": 244,
     "metadata": {},
     "output_type": "execute_result"
    }
   ],
   "source": [
    "[v[1],v[3],v[5]]"
   ]
  },
  {
   "cell_type": "code",
   "execution_count": 245,
   "id": "8d2920d4-0163-4c4f-ad33-4084a808c162",
   "metadata": {},
   "outputs": [],
   "source": [
    "al_getir = [1, 3, 5]"
   ]
  },
  {
   "cell_type": "code",
   "execution_count": 246,
   "id": "5e2f6f90-c27c-494c-a586-be284e772f74",
   "metadata": {},
   "outputs": [
    {
     "data": {
      "text/plain": [
       "array([ 3,  9, 15])"
      ]
     },
     "execution_count": 246,
     "metadata": {},
     "output_type": "execute_result"
    }
   ],
   "source": [
    "v[al_getir]"
   ]
  },
  {
   "cell_type": "code",
   "execution_count": null,
   "id": "225c7699-a3cc-4d15-95de-d8aa9e200f7e",
   "metadata": {},
   "outputs": [],
   "source": [
    "# Yaptığığmız İşleme Fancy İşlemi Denir "
   ]
  },
  {
   "cell_type": "markdown",
   "id": "4a473f52-7a72-4e13-863b-1f9bec7f40e6",
   "metadata": {},
   "source": [
    "## İki Boyutta Fancy İşlemi:"
   ]
  },
  {
   "cell_type": "code",
   "execution_count": 248,
   "id": "191ab0bd-08e2-4f1f-83d7-a82ff4fc3068",
   "metadata": {},
   "outputs": [
    {
     "data": {
      "text/plain": [
       "array([[0, 1, 2],\n",
       "       [3, 4, 5],\n",
       "       [6, 7, 8]])"
      ]
     },
     "execution_count": 248,
     "metadata": {},
     "output_type": "execute_result"
    }
   ],
   "source": [
    "m = np.arange(9).reshape(3,3)\n",
    "m"
   ]
  },
  {
   "cell_type": "code",
   "execution_count": 250,
   "id": "4505850d-3559-4a7f-8a01-c0efd8b1718b",
   "metadata": {},
   "outputs": [],
   "source": [
    "satir = np.array([0,1])\n",
    "sutun = np.array([1,2])"
   ]
  },
  {
   "cell_type": "code",
   "execution_count": 251,
   "id": "ca7b9275-5511-403b-bfb9-3db4a003efaf",
   "metadata": {},
   "outputs": [
    {
     "data": {
      "text/plain": [
       "array([1, 5])"
      ]
     },
     "execution_count": 251,
     "metadata": {},
     "output_type": "execute_result"
    }
   ],
   "source": [
    "m[satir,sutun]"
   ]
  },
  {
   "cell_type": "markdown",
   "id": "197ff42f-c43d-43ad-aa66-ddeec2c7fa85",
   "metadata": {},
   "source": [
    "## Basit İndeks İle Fancy İndeks"
   ]
  },
  {
   "cell_type": "code",
   "execution_count": 252,
   "id": "e21a3c99-448c-477f-a3b3-f5113111f37e",
   "metadata": {},
   "outputs": [
    {
     "data": {
      "text/plain": [
       "array([[0, 1, 2],\n",
       "       [3, 4, 5],\n",
       "       [6, 7, 8]])"
      ]
     },
     "execution_count": 252,
     "metadata": {},
     "output_type": "execute_result"
    }
   ],
   "source": [
    "m"
   ]
  },
  {
   "cell_type": "code",
   "execution_count": 254,
   "id": "ec029eb3-10f7-4f11-8852-a1b561c66b4b",
   "metadata": {},
   "outputs": [
    {
     "data": {
      "text/plain": [
       "array([4, 5])"
      ]
     },
     "execution_count": 254,
     "metadata": {},
     "output_type": "execute_result"
    }
   ],
   "source": [
    "m[1, [1,2]] # 1.indeksli Satırın 1. ve 2. ideksli elemanlarını göster"
   ]
  },
  {
   "cell_type": "code",
   "execution_count": 258,
   "id": "7b25a3f7-2b29-47d5-a9cd-e2c14b6ea57d",
   "metadata": {},
   "outputs": [
    {
     "data": {
      "text/plain": [
       "array([[0, 2],\n",
       "       [3, 5],\n",
       "       [6, 8]])"
      ]
     },
     "execution_count": 258,
     "metadata": {},
     "output_type": "execute_result"
    }
   ],
   "source": [
    "m[0: ,[0,2]] # 0.indeksteki satırından son satıra kadar 0.indeksli sütun ile 2.indeksli sütunun değerlerini göster"
   ]
  },
  {
   "cell_type": "markdown",
   "id": "54fd766d-a9df-4745-81f3-6e7e09da97c2",
   "metadata": {},
   "source": [
    "# Koşullu Eleman İşlemleri "
   ]
  },
  {
   "cell_type": "code",
   "execution_count": 259,
   "id": "2543c9da-a9b9-4f79-a5e1-3246a01b42e9",
   "metadata": {},
   "outputs": [],
   "source": [
    "import numpy as np\n",
    "v = np.array([1, 2, 3, 4, 5])"
   ]
  },
  {
   "cell_type": "code",
   "execution_count": 262,
   "id": "4c350a3e-406e-41c8-b49d-00473e07ae6e",
   "metadata": {},
   "outputs": [
    {
     "data": {
      "text/plain": [
       "array([ True,  True, False, False, False])"
      ]
     },
     "execution_count": 262,
     "metadata": {},
     "output_type": "execute_result"
    }
   ],
   "source": [
    "v < 3"
   ]
  },
  {
   "cell_type": "code",
   "execution_count": null,
   "id": "a65f4579-720f-4ae3-bba6-c73c96ffdd6e",
   "metadata": {},
   "outputs": [],
   "source": [
    "# DEğerlere Erişme İşlemi"
   ]
  },
  {
   "cell_type": "code",
   "execution_count": 260,
   "id": "b57de26e-d14a-45e0-a91c-5e1cee0a0114",
   "metadata": {},
   "outputs": [],
   "source": [
    "istenilen_deger = v[v<3]"
   ]
  },
  {
   "cell_type": "code",
   "execution_count": 261,
   "id": "b2f302b1-0736-4fa8-8d96-cdbd06e517b5",
   "metadata": {},
   "outputs": [
    {
     "data": {
      "text/plain": [
       "array([1, 2])"
      ]
     },
     "execution_count": 261,
     "metadata": {},
     "output_type": "execute_result"
    }
   ],
   "source": [
    "istenilen_deger"
   ]
  },
  {
   "cell_type": "markdown",
   "id": "0d1602e6-53d2-4d20-baf6-583ca1037674",
   "metadata": {},
   "source": [
    "# Matematiksel İşlemler "
   ]
  },
  {
   "cell_type": "code",
   "execution_count": 263,
   "id": "7be98d7c-9132-4077-aad1-7d52ab3505f9",
   "metadata": {},
   "outputs": [],
   "source": [
    "import numpy as np\n",
    "v = np.array([1,2,3,4,5])"
   ]
  },
  {
   "cell_type": "markdown",
   "id": "262ff809-a178-42a6-8a69-6709a8fa05ac",
   "metadata": {},
   "source": [
    "* v-1\n",
    "* v*5\n",
    "* v/5\n",
    "* v*5/10-2+9\n",
    "## Bir Dizi İşleme Tabi Tutlabilir"
   ]
  },
  {
   "cell_type": "code",
   "execution_count": null,
   "id": "d363b99c-35da-4991-b17e-3f1215a46a95",
   "metadata": {},
   "outputs": [],
   "source": [
    "#ufunc\n",
    "# +,-,*,/ Gibi işlemlerini kullanıyoruz ama arakda çalışan yapılar bunlar "
   ]
  },
  {
   "cell_type": "code",
   "execution_count": 264,
   "id": "b659b104-9806-4db4-ad8b-f59beed383fd",
   "metadata": {},
   "outputs": [
    {
     "data": {
      "text/plain": [
       "array([0, 1, 2, 3, 4])"
      ]
     },
     "execution_count": 264,
     "metadata": {},
     "output_type": "execute_result"
    }
   ],
   "source": [
    "np.subtract(v, 1)"
   ]
  },
  {
   "cell_type": "code",
   "execution_count": 265,
   "id": "86aee02a-bd88-456e-a187-17d8dab1e8b4",
   "metadata": {},
   "outputs": [
    {
     "data": {
      "text/plain": [
       "array([2, 3, 4, 5, 6])"
      ]
     },
     "execution_count": 265,
     "metadata": {},
     "output_type": "execute_result"
    }
   ],
   "source": [
    "np.add(v, 1)"
   ]
  },
  {
   "cell_type": "code",
   "execution_count": 266,
   "id": "cd3750d1-e7da-40d8-a71c-22bfeac743b3",
   "metadata": {},
   "outputs": [
    {
     "data": {
      "text/plain": [
       "array([ 4,  8, 12, 16, 20])"
      ]
     },
     "execution_count": 266,
     "metadata": {},
     "output_type": "execute_result"
    }
   ],
   "source": [
    "np.multiply(v,4)"
   ]
  },
  {
   "cell_type": "code",
   "execution_count": 267,
   "id": "7f1aa148-6ec2-424d-a036-ee7451715f8b",
   "metadata": {},
   "outputs": [
    {
     "data": {
      "text/plain": [
       "array([0.5, 1. , 1.5, 2. , 2.5])"
      ]
     },
     "execution_count": 267,
     "metadata": {},
     "output_type": "execute_result"
    }
   ],
   "source": [
    "np.divide(v,2)"
   ]
  },
  {
   "cell_type": "code",
   "execution_count": 268,
   "id": "5a6013a4-e5c8-4e86-a4b3-5c0c0984078d",
   "metadata": {},
   "outputs": [
    {
     "data": {
      "text/plain": [
       "array([1, 0, 1, 0, 1])"
      ]
     },
     "execution_count": 268,
     "metadata": {},
     "output_type": "execute_result"
    }
   ],
   "source": [
    "np.mod(v,2)"
   ]
  },
  {
   "cell_type": "code",
   "execution_count": 276,
   "id": "e2a2dfce-6bb9-44a5-b69b-40280872ca0a",
   "metadata": {},
   "outputs": [
    {
     "data": {
      "text/plain": [
       "array([3])"
      ]
     },
     "execution_count": 276,
     "metadata": {},
     "output_type": "execute_result"
    }
   ],
   "source": [
    "np.absolute(np.array([-3]))        "
   ]
  },
  {
   "cell_type": "code",
   "execution_count": 277,
   "id": "3e6092e7-b938-414e-bca3-f126fba8401a",
   "metadata": {},
   "outputs": [
    {
     "data": {
      "text/plain": [
       "np.float64(0.9589157234143065)"
      ]
     },
     "execution_count": 277,
     "metadata": {},
     "output_type": "execute_result"
    }
   ],
   "source": [
    "np.sin(360)"
   ]
  },
  {
   "cell_type": "code",
   "execution_count": 278,
   "id": "c57ec0bd-2995-435a-b4c6-3bcde7f1d21f",
   "metadata": {},
   "outputs": [
    {
     "data": {
      "text/plain": [
       "array([0.        , 0.69314718, 1.09861229, 1.38629436, 1.60943791])"
      ]
     },
     "execution_count": 278,
     "metadata": {},
     "output_type": "execute_result"
    }
   ],
   "source": [
    "np.log(v)"
   ]
  },
  {
   "cell_type": "code",
   "execution_count": 279,
   "id": "f0930385-e739-4427-8757-07a0e1f76eac",
   "metadata": {},
   "outputs": [
    {
     "data": {
      "text/plain": [
       "array([0.        , 0.30103   , 0.47712125, 0.60205999, 0.69897   ])"
      ]
     },
     "execution_count": 279,
     "metadata": {},
     "output_type": "execute_result"
    }
   ],
   "source": [
    "np.log10(v)"
   ]
  },
  {
   "cell_type": "markdown",
   "id": "f681476d-a7cb-4a3e-9dea-f7f4c63b16c5",
   "metadata": {},
   "source": [
    "# Numpy İle İki Bilinmeyenli Denklem Çözümü "
   ]
  },
  {
   "cell_type": "code",
   "execution_count": 12,
   "id": "f861c474-df5f-49ef-b3ba-646ac6519bdd",
   "metadata": {},
   "outputs": [],
   "source": [
    "import numpy as np"
   ]
  },
  {
   "cell_type": "markdown",
   "id": "a80bd371-c098-40fd-be2e-b35b2a097b2e",
   "metadata": {},
   "source": [
    "5 * x0 + x1 = 12\n",
    "x0 + 3 * x1 = 10\n"
   ]
  },
  {
   "cell_type": "code",
   "execution_count": 13,
   "id": "33bfe5da-34b2-416a-a8c8-b29389ce38b2",
   "metadata": {},
   "outputs": [],
   "source": [
    "a = np.array([[5,1],[3,1]])\n",
    "b = np.array([[12],[10]])"
   ]
  },
  {
   "cell_type": "code",
   "execution_count": 14,
   "id": "03a991fe-78c5-43d0-8eab-8eaa3f8fa698",
   "metadata": {
    "scrolled": true
   },
   "outputs": [
    {
     "data": {
      "text/plain": [
       "array([[5, 1],\n",
       "       [3, 1]])"
      ]
     },
     "execution_count": 14,
     "metadata": {},
     "output_type": "execute_result"
    }
   ],
   "source": [
    "a"
   ]
  },
  {
   "cell_type": "code",
   "execution_count": 15,
   "id": "f559446c-06aa-409d-b5e2-cbe81a1dea35",
   "metadata": {},
   "outputs": [
    {
     "data": {
      "text/plain": [
       "array([[12],\n",
       "       [10]])"
      ]
     },
     "execution_count": 15,
     "metadata": {},
     "output_type": "execute_result"
    }
   ],
   "source": [
    "b"
   ]
  },
  {
   "cell_type": "code",
   "execution_count": 16,
   "id": "41bfdd67-227a-4052-a7f7-d327aa8a786d",
   "metadata": {},
   "outputs": [
    {
     "data": {
      "text/plain": [
       "array([[1.],\n",
       "       [7.]])"
      ]
     },
     "execution_count": 16,
     "metadata": {},
     "output_type": "execute_result"
    }
   ],
   "source": [
    "x = np.linalg.solve(a,b)\n",
    "x"
   ]
  },
  {
   "cell_type": "code",
   "execution_count": 19,
   "id": "6a6345d4-6fce-4fd5-a154-dbfc8a712136",
   "metadata": {},
   "outputs": [
    {
     "data": {
      "text/plain": [
       "array([[4, 0, 3, 0, 1],\n",
       "       [9, 6, 1, 5, 9],\n",
       "       [1, 9, 0, 8, 2]])"
      ]
     },
     "execution_count": 19,
     "metadata": {},
     "output_type": "execute_result"
    }
   ],
   "source": [
    "a = np.array([[4, 0, 3, 0, 1],\n",
    "       [9, 6, 1, 5, 9],\n",
    "       [1, 9, 0, 8, 2]])\n",
    "a"
   ]
  },
  {
   "cell_type": "code",
   "execution_count": 23,
   "id": "05bd52cb-e6b6-40da-b0ad-97f4fd59296b",
   "metadata": {},
   "outputs": [
    {
     "data": {
      "text/plain": [
       "np.int64(1)"
      ]
     },
     "execution_count": 23,
     "metadata": {},
     "output_type": "execute_result"
    }
   ],
   "source": [
    "a[1,2]"
   ]
  },
  {
   "cell_type": "code",
   "execution_count": null,
   "id": "a4bbaa02-5c04-4d0c-99b8-cd304294dd02",
   "metadata": {},
   "outputs": [],
   "source": []
  }
 ],
 "metadata": {
  "kernelspec": {
   "display_name": "Python [conda env:base] *",
   "language": "python",
   "name": "conda-base-py"
  },
  "language_info": {
   "codemirror_mode": {
    "name": "ipython",
    "version": 3
   },
   "file_extension": ".py",
   "mimetype": "text/x-python",
   "name": "python",
   "nbconvert_exporter": "python",
   "pygments_lexer": "ipython3",
   "version": "3.13.5"
  }
 },
 "nbformat": 4,
 "nbformat_minor": 5
}
